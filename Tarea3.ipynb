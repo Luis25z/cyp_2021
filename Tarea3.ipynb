{
  "nbformat": 4,
  "nbformat_minor": 0,
  "metadata": {
    "colab": {
      "name": "Tarea3.ipynb",
      "provenance": [],
      "authorship_tag": "ABX9TyO6k5uzhe2hl17Q/+hSH1Yr",
      "include_colab_link": true
    },
    "kernelspec": {
      "name": "python3",
      "display_name": "Python 3"
    }
  },
  "cells": [
    {
      "cell_type": "markdown",
      "metadata": {
        "id": "view-in-github",
        "colab_type": "text"
      },
      "source": [
        "<a href=\"https://colab.research.google.com/github/Luis25z/cyp_2021/blob/main/Tarea3.ipynb\" target=\"_parent\"><img src=\"https://colab.research.google.com/assets/colab-badge.svg\" alt=\"Open In Colab\"/></a>"
      ]
    },
    {
      "cell_type": "code",
      "metadata": {
        "id": "5mxIBG0Lb6RE"
      },
      "source": [
        "#Problema   1.1\n",
        "PrecioProducto=0\n",
        "Pago=0\n",
        "Cambio=0\n",
        "\n",
        "precio=float (input(\"Precio del producto:\"))\n",
        "pago=float (input(\"Dinero recibido:\"))\n",
        "cambio=(pago-precio)\n",
        "print(f\"El dinero a devolver es $ {cambio}\")"
      ],
      "execution_count": null,
      "outputs": []
    },
    {
      "cell_type": "code",
      "metadata": {
        "colab": {
          "base_uri": "https://localhost:8080/"
        },
        "id": "70em7sfVftJI",
        "outputId": "960476b2-28f1-4662-fdce-d4742b434250"
      },
      "source": [
        "#Problema 1.2\n",
        "Base=0\n",
        "Altura=0\n",
        "Superficie=0\n",
        "\n",
        "Base=float (input(\"valor de la base:\"))\n",
        "Altura=float (input(\"Valor de la altura:\"))\n",
        "superficie=(Base*Altura)/2\n",
        "print(f\"La superficie es {superficie}\")"
      ],
      "execution_count": 17,
      "outputs": [
        {
          "output_type": "stream",
          "text": [
            "valor de la base:8.50\n",
            "Valor de la altura:7.20\n",
            "La superficie es 30.6\n"
          ],
          "name": "stdout"
        }
      ]
    },
    {
      "cell_type": "code",
      "metadata": {
        "id": "C5Vhqqo91E3q"
      },
      "source": [
        "#Problema 1.3\n",
        "nom=0\n",
        "pes=0\n",
        "lon=0\n",
        "pesk=0\n",
        "lonm=0\n",
        "\n",
        "nom=input(\"ingrese nombre del dinosaurio:\")\n",
        "pes=float (input(\"peso del dinosaurio en libras:\"))\n",
        "lon= float(input(\"longitud del dinosaurio en pies:\"))\n",
        "\n",
        "pesk= (pes*.45)\n",
        "longM= (lon*.30)\n",
        "print(f\"El {nom} pesa {pesk} kg y tiene una longitud de {longM} metros\")\n"
      ],
      "execution_count": null,
      "outputs": []
    },
    {
      "cell_type": "code",
      "metadata": {
        "colab": {
          "base_uri": "https://localhost:8080/"
        },
        "id": "09zGn73M1ino",
        "outputId": "3eac2ccc-6e73-4716-f598-9d39c88c60ff"
      },
      "source": [
        "#Problema 1.4\n",
        "galon=0\n",
        "Total=0\n",
        "\n",
        "gal=float(input(\"Ingrese el numero de galones:\"))\n",
        "\n",
        "total= (gal)*3.785*8.20\n",
        "print(f\"El total es $ {total}\")\n"
      ],
      "execution_count": 34,
      "outputs": [
        {
          "output_type": "stream",
          "text": [
            "Ingrese el numero de galones:15.90\n",
            "El total es $ 493.48830000000004\n"
          ],
          "name": "stdout"
        }
      ]
    },
    {
      "cell_type": "code",
      "metadata": {
        "id": "gI1PMeqm_Imh"
      },
      "source": [
        "#Problema 1.5\n",
        "rad=0\n",
        "alt=0\n",
        "are=00\n",
        "vol=0\n",
        "pi=3.1416\n",
        "\n",
        "rad=float(input(\"ingrese el radio\"))\n",
        "alt=float(input(\"ingrese la altura\"))\n",
        "\n",
        "are = 2 * rad * alt *  pi\n",
        "vol=pi*(rad**2)*alt\n",
        "print(f\"el volumen del cilindro es {vol:.2f}u^3 y el area {are:.2f}u^2\") "
      ],
      "execution_count": null,
      "outputs": []
    },
    {
      "cell_type": "code",
      "metadata": {
        "id": "9HvX0A8SOnTP"
      },
      "source": [
        "#Problema 1.6\n",
        "Dias=0 \n",
        "Segundos=0\n",
        "dia= float(input(\"ingresa el numero de dias\"))\n",
        "segun= dia*86400\n",
        "print(f\"En {dia} hay {segun} segundos\")"
      ],
      "execution_count": null,
      "outputs": []
    }
  ]
}