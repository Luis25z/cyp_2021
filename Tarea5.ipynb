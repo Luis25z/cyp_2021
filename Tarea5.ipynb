{
  "nbformat": 4,
  "nbformat_minor": 0,
  "metadata": {
    "colab": {
      "name": "Tarea5.ipynb",
      "provenance": [],
      "authorship_tag": "ABX9TyPDxpspjgW+LrfYL0w55p5U",
      "include_colab_link": true
    },
    "kernelspec": {
      "name": "python3",
      "display_name": "Python 3"
    }
  },
  "cells": [
    {
      "cell_type": "markdown",
      "metadata": {
        "id": "view-in-github",
        "colab_type": "text"
      },
      "source": [
        "<a href=\"https://colab.research.google.com/github/Luis25z/cyp_2021/blob/main/Tarea5.ipynb\" target=\"_parent\"><img src=\"https://colab.research.google.com/assets/colab-badge.svg\" alt=\"Open In Colab\"/></a>"
      ]
    },
    {
      "cell_type": "code",
      "metadata": {
        "colab": {
          "base_uri": "https://localhost:8080/"
        },
        "id": "WKKZw7VIKcW2",
        "outputId": "6e9c628d-5e08-472e-c9b7-2d3d4ce2c2ed"
      },
      "source": [
        "#Ejemplo 3.1\r\n",
        "\r\n",
        "sueldo=int(input(\"Introduce el sueldo:\"))\r\n",
        "suma=0\r\n",
        "\r\n",
        "while sueldo > 0:\r\n",
        "  suma= suma + sueldo\r\n",
        "  sueldo= int(input(\"Introduce el siguiente sueldo,al terminar ingresa -1:\"))\r\n",
        "\r\n",
        "print(\"La nomina es de $\",str(suma))\r\n"
      ],
      "execution_count": 9,
      "outputs": [
        {
          "output_type": "stream",
          "text": [
            "Introduce el sueldo:100\n",
            "Introduce el siguiente sueldo,al terminar ingresa -1:200\n",
            "Introduce el siguiente sueldo,al terminar ingresa -1:200\n",
            "Introduce el siguiente sueldo,al terminar ingresa -1:200\n",
            "Introduce el siguiente sueldo,al terminar ingresa -1:-1\n",
            "La nomina es de $ 700\n"
          ],
          "name": "stdout"
        }
      ]
    },
    {
      "cell_type": "code",
      "metadata": {
        "colab": {
          "base_uri": "https://localhost:8080/"
        },
        "id": "UFmQN3JB8TKZ",
        "outputId": "698c474f-0d8e-49ca-b6c7-55dc9a6e6cbf"
      },
      "source": [
        "#Ejemplo 3.4 suma de gastos \"while\"\r\n",
        "\r\n",
        "sum=0\r\n",
        "gas=0\r\n",
        "\r\n",
        "print(\"ingrese los gastos que haya tenido,cuando haya terminado ingrese -1 \")\r\n",
        "gas= float(input())\r\n",
        "while gas > -1:\r\n",
        "  sum= sum + gas\r\n",
        "  gas= float(input())\r\n",
        "print(f\"los gastos fueron ${sum}\")"
      ],
      "execution_count": 3,
      "outputs": [
        {
          "output_type": "stream",
          "text": [
            "ingrese los gastos que haya tenido,cuando haya terminado ingrese -1 \n",
            "200\n",
            "2000\n",
            "200\n",
            "-1\n",
            "los gastos fueron $2400.0\n"
          ],
          "name": "stdout"
        }
      ]
    }
  ]
}