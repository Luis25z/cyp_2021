{
  "nbformat": 4,
  "nbformat_minor": 0,
  "metadata": {
    "colab": {
      "name": "17_nov_cyp.ipynb",
      "provenance": [],
      "authorship_tag": "ABX9TyMFeSfJner+m40MNLCy8xKj",
      "include_colab_link": true
    },
    "kernelspec": {
      "name": "python3",
      "display_name": "Python 3"
    }
  },
  "cells": [
    {
      "cell_type": "markdown",
      "metadata": {
        "id": "view-in-github",
        "colab_type": "text"
      },
      "source": [
        "<a href=\"https://colab.research.google.com/github/Luis25z/cyp_2021/blob/main/17_nov_cyp.ipynb\" target=\"_parent\"><img src=\"https://colab.research.google.com/assets/colab-badge.svg\" alt=\"Open In Colab\"/></a>"
      ]
    },
    {
      "cell_type": "code",
      "metadata": {
        "colab": {
          "base_uri": "https://localhost:8080/"
        },
        "id": "Kby5w3M-R6I9",
        "outputId": "a461b641-5454-4c1e-f74a-99249e4a6c75"
      },
      "source": [
        "edad= 15\n",
        "estatura= 1.67\n",
        "a = 10\n",
        "b = 3\n",
        "\n",
        "c  = 2 ** 2\n",
        "\n",
        "print(c)\n",
        "\n",
        "e=estatura * 2.0\n",
        "print(e)\n",
        "\n",
        "f=a/b  #En python se hace el cálculo exacto\n",
        "print(f) #3.3333\n",
        "\n",
        "#tambien podemos forzar al calculo de enteros\n",
        "g= a//b #Forzar a divisiones enteras,solo funciona en python\n",
        "print(\"g=\",g)\n",
        "\n",
        "h= a % b\n",
        "print(\"h=\",h)\n",
        "\n",
        "num= 11\n",
        "print(\"Es par num?\", (num%2) == 0)"
      ],
      "execution_count": null,
      "outputs": [
        {
          "output_type": "stream",
          "text": [
            "4\n",
            "3.34\n",
            "3.3333333333333335\n",
            "g= 3\n",
            "h= 1\n",
            "Es par num? False\n"
          ],
          "name": "stdout"
        }
      ]
    },
    {
      "cell_type": "code",
      "metadata": {
        "colab": {
          "base_uri": "https://localhost:8080/"
        },
        "id": "Fm-9rNKqW3ff",
        "outputId": "10679e33-fbd4-424f-d2ed-959911e1256e"
      },
      "source": [
        "ecuacion= 9 + 7 * 8 -36 / 5 #9+56-7.2->\n",
        "print(ecuacion)\n",
        "\n",
        "ecuacion=(9 + 7) * 8 - 36\n",
        " / 5\n",
        "print(ecuacion)\n"
      ],
      "execution_count": null,
      "outputs": [
        {
          "output_type": "stream",
          "text": [
            "57.8\n"
          ],
          "name": "stdout"
        }
      ]
    },
    {
      "cell_type": "code",
      "metadata": {
        "colab": {
          "base_uri": "https://localhost:8080/"
        },
        "id": "uUoBPyXJcBSH",
        "outputId": "8f52847b-f7a6-4e31-b48f-015939db49c5"
      },
      "source": [
        "#operadores logicos\n",
        "\n",
        "x=5\n",
        "y=5\n",
        "\n",
        "valor= (x==y) #son iguales? --Falso\n",
        "print(valor)\n",
        "\n",
        "valor= (x != y) #son diferentes?? --Verdadero\n",
        "print(valor)\n",
        "\n",
        "valor= (x < y)#x es menor que y?? False\n",
        "print(valor)\n",
        "\n",
        "valor= (x > y)#x es menor que y?? False\n",
        "print(valor)\n",
        "\n",
        "valor= (x <= y)#x es mayor que y?? False\n",
        "print(valor)"
      ],
      "execution_count": null,
      "outputs": [
        {
          "output_type": "stream",
          "text": [
            "True\n",
            "False\n",
            "False\n",
            "False\n",
            "True\n"
          ],
          "name": "stdout"
        }
      ]
    },
    {
      "cell_type": "code",
      "metadata": {
        "colab": {
          "base_uri": "https://localhost:8080/"
        },
        "id": "fkwykaTefi1Z",
        "outputId": "e3a5b2aa-ec4e-42b7-abb0-89855228b910"
      },
      "source": [
        "costo_chetos= 7.0\n",
        "tienda_abierta= False\n",
        "capital_en_bolsa=10.0\n",
        "\n",
        "se_compra=(costo_chetos < capital_en_bolsa) and (tienda_abierta==   True)\n",
        "print(se_compra)"
      ],
      "execution_count": null,
      "outputs": [
        {
          "output_type": "stream",
          "text": [
            "False\n"
          ],
          "name": "stdout"
        }
      ]
    }
  ]
}