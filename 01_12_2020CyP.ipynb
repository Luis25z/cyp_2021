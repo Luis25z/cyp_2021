{
  "nbformat": 4,
  "nbformat_minor": 0,
  "metadata": {
    "colab": {
      "name": "01/12/2020CyP.ipynb",
      "provenance": [],
      "authorship_tag": "ABX9TyO/1jJqMK6tMvAFPqQTozOn",
      "include_colab_link": true
    },
    "kernelspec": {
      "name": "python3",
      "display_name": "Python 3"
    }
  },
  "cells": [
    {
      "cell_type": "markdown",
      "metadata": {
        "id": "view-in-github",
        "colab_type": "text"
      },
      "source": [
        "<a href=\"https://colab.research.google.com/github/Luis25z/cyp_2021/blob/main/01_12_2020CyP.ipynb\" target=\"_parent\"><img src=\"https://colab.research.google.com/assets/colab-badge.svg\" alt=\"Open In Colab\"/></a>"
      ]
    },
    {
      "cell_type": "code",
      "metadata": {
        "colab": {
          "base_uri": "https://localhost:8080/"
        },
        "id": "JI5qEtNHVhdM",
        "outputId": "74fe624d-b0bf-4111-c124-c45f4e5f6362"
      },
      "source": [
        "primerNumero = int(input(\"Primer numero: \"))\n",
        "segundoNumero = int(input(\"Segundo numero: \"))\n",
        "tercerNumero = int(input(\"Tercer numero: \"))\n",
        "\n",
        "if primerNumero == segundoNumero and primerNumero == tercerNumero :\n",
        "    print(\"Todos los numeros son iguales\")\n",
        "elif primerNumero > segundoNumero :\n",
        "    if primerNumero > tercerNumero:\n",
        "        print(f\"El numero {primerNumero} es el mayor.\")\n",
        "    else :\n",
        "        print(f\"El numero {tercerNumero} es el mayor.\")\n"
      ],
      "execution_count": null,
      "outputs": [
        {
          "output_type": "stream",
          "text": [
            "Primer numero: 9\n",
            "Segundo numero: 3\n",
            "Tercer numero: 4\n",
            "El numero 9 es el mayor.\n"
          ],
          "name": "stdout"
        }
      ]
    },
    {
      "cell_type": "code",
      "metadata": {
        "colab": {
          "base_uri": "https://localhost:8080/"
        },
        "id": "4b53pxGNVvAl",
        "outputId": "26dae4e4-0290-4f87-a832-e8745976248e"
      },
      "source": [
        "#Ejemplo2\n",
        "print(\"Ingrese el nombre del trabajador\")\n",
        "nombre= input()\n",
        "print(\"Cuantas horas trabajo esta semana\", nombre ,\":\")\n",
        "horas= input()\n",
        "horas= int(horas)\n",
        "print(\"Cuanto se paga por hora?:\")\n",
        "sueldoh=input()\n",
        "sueldoh= float(sueldoh)\n",
        "\n",
        "#Evaluar sueldo\n",
        "\n",
        "if(horas<40):\n",
        "  pago= horas*sueldoh\n",
        "  print(\"El sueldo final de \" , nombre , \"Es $ \", pago)\n",
        "\n",
        "else:\n",
        "  extras=horas-40\n",
        "  pago=40*sueldoh\n",
        "  pagoFinal=pago + ((extras*sueldoh)*2)\n",
        "  print(\"El sueldo final de \", nombre , \"Es $ , pago\")"
      ],
      "execution_count": null,
      "outputs": [
        {
          "output_type": "stream",
          "text": [
            "Ingrese el nombre del trabajador\n",
            "Luis\n",
            "Cuantas horas trabajo esta semana Luis :\n",
            "20\n",
            "Cuanto se paga por hora?:\n",
            "10\n",
            "El sueldo final de  Luis Es $  200.0\n"
          ],
          "name": "stdout"
        }
      ]
    },
    {
      "cell_type": "code",
      "metadata": {
        "colab": {
          "base_uri": "https://localhost:8080/"
        },
        "id": "RR7o74XDZIFe",
        "outputId": "faf0b634-59c1-4ead-fc24-89f8c004c29c"
      },
      "source": [
        "#Ejemplo 3\n",
        "#Calcular el salario semanal de x trabajador\n",
        "#El salario semanal se calcula en base a las horas semanales trabajadas\n",
        "#El pago por hora es variable (se pide por teclado)\n",
        "#Si las horas trabajadas superan las 40 horas, el pago por hora extra es:\n",
        "#Doble en el rango de 41horas a 50horas\n",
        "#Triple en el rango de 51horas a 60 horas\n",
        "#Incentivo de $2000 si rebasa las 60 horas.\n",
        "\n",
        "print(\"Ingrese el nombre del trabajador\")\n",
        "nombre= input()\n",
        "print(\"Cuantas horas trabajo esta semana\", nombre ,\":\")\n",
        "horas= input()\n",
        "horas= int(horas)\n",
        "print(\"Cuanto se paga por hora?:\")\n",
        "sueldoh=input()\n",
        "sueldoh= float(sueldoh)\n",
        "\n",
        "#Evaluar sueldo\n",
        "if(horas<=40):\n",
        "  pago=horas*sueldoh\n",
        "  print(\"El sueldo final de:\", nombre ,  \"es $\", pago)\n",
        "\n",
        "elif(horas>40 and horas<= 50):\n",
        "   extrasDobles=horas-40\n",
        "   print(\"Horas extra dobles:\" , extrasDobles) \n",
        "   pago=40*sueldoh\n",
        "   print(\"Sueldo base:$\",pago) \n",
        "   pagoDoble= extrasDobles* sueldoh *2\n",
        "   print(\"pago de horas dobles:$\", pagoDoble)\n",
        "   pagoFinal= pago+pagoDoble\n",
        "   print(\"El sueldo final de:\" , nombre , \"Es $\",pagoFinal) \n",
        "\n",
        "elif (horas >50 and horas <=60):\n",
        "  extrasTriples=horas-50\n",
        "  print(\"horas extra dobles:10\")\n",
        "  print(\"horas extra triples:\",extrasTriples)\n",
        "  pago=40*sueldoH\n",
        "  print(\"sueldo base:$\", pago)\n",
        "  pagoDoble=10*sueldoH*2\n",
        "  print(\"pago de horas extras dobles:\", pagoDoble)\n",
        "  pagoTriple=extrasTriples *sueldoH *3\n",
        "  print(\"pago de horas extra triples:\" ,pagoTriple)\n",
        "  pagoFinal=pago + pagoDoble+ pagoTriple\n",
        "  print(\"El sueldo Final de : \" ,nombre , \"Es $\", pagoFinal)\n",
        "\n",
        "else:\n",
        "  extrasTriples=10\n",
        "  print(\"Horas extra dobles 10\")\n",
        "  print(\"horas extra triples 10\")\n",
        "  pago= 40*sueldoH\n",
        "  print(\"Sueldo Base:$\",pago)\n",
        "  pagoDoble=10*sueldoH*2\n",
        "  print(\"Pago de horas extra Dobles:\", pagoDoble)\n",
        "  pagoTriple=extrasTriples * sueldoH*3\n",
        "  print(\"pago de horas extra triples:\", pagoTriple)\n",
        "  print(\"Incentivo por trabajar más de 60 horas:$ $2000\")\n",
        "  pagoFinal= pago+pagoDoble+pagoTriple+2000\n",
        "  print(\"El sueldo Final de : \" ,nombre , \"Es $\", pagoFinal)"
      ],
      "execution_count": null,
      "outputs": [
        {
          "output_type": "stream",
          "text": [
            "Ingrese el nombre del trabajador\n",
            "Luis\n",
            "Cuantas horas trabajo esta semana Luis :\n",
            "50\n",
            "Cuanto se paga por hora?:\n",
            "10\n",
            "Horas extra dobles: 10\n",
            "Sueldo base:$ 400.0\n",
            "pago de horas dobles:$ 200.0\n",
            "El sueldo final de: Luis Es $ 600.0\n"
          ],
          "name": "stdout"
        }
      ]
    },
    {
      "cell_type": "code",
      "metadata": {
        "id": "BjzkItWDp1TV"
      },
      "source": [
        "#Estructura FOR\n",
        " for estaciones_año  in [\"primavera\", \"verano\",\"otoño\", \"invierno\",\"Venus\"]:#in palabra reservada, elemento a recorrer\n",
        "  print(estaciones_año)\n",
        "\n",
        "#variables que suelen formar parde de FOR son \"i\"\n",
        "\n",
        " "
      ],
      "execution_count": null,
      "outputs": []
    },
    {
      "cell_type": "code",
      "metadata": {
        "id": "JMDfwNhqAu5K"
      },
      "source": [
        "#Ejemplo2\n",
        "for estaciones_año  in [\"primavera\", \"verano\",\"otoño\", \"invierno\",\"Venus\"]:#in palabra reservada, elemento a recorrer\n",
        "  print(\"Hola\")\n",
        "  "
      ],
      "execution_count": null,
      "outputs": []
    }
  ]
}