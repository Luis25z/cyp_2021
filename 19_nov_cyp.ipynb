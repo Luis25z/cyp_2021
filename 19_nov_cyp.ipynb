{
  "nbformat": 4,
  "nbformat_minor": 0,
  "metadata": {
    "colab": {
      "name": "19-nov-cyp.ipynb",
      "provenance": [],
      "authorship_tag": "ABX9TyOuU4JMUKQyoTczlUckms+h",
      "include_colab_link": true
    },
    "kernelspec": {
      "name": "python3",
      "display_name": "Python 3"
    }
  },
  "cells": [
    {
      "cell_type": "markdown",
      "metadata": {
        "id": "view-in-github",
        "colab_type": "text"
      },
      "source": [
        "<a href=\"https://colab.research.google.com/github/Luis25z/cyp_2021/blob/main/19_nov_cyp.ipynb\" target=\"_parent\"><img src=\"https://colab.research.google.com/assets/colab-badge.svg\" alt=\"Open In Colab\"/></a>"
      ]
    },
    {
      "cell_type": "code",
      "metadata": {
        "id": "Hcv0RKfUkXvB"
      },
      "source": [
        "I=0\n",
        "I=I+1\n",
        "I=I+1\n",
        "print(f\"i={I}\")\n",
        "J=5**2/3\n",
        "print(f\"J¨{J}\")"
      ],
      "execution_count": null,
      "outputs": []
    },
    {
      "cell_type": "code",
      "metadata": {
        "id": "xJhyHC4Lmx46"
      },
      "source": [
        "#Declaracion de variables (reservando memoria)\n",
        "A=0   \n",
        "B=0\n",
        "C=0\n",
        "D=0\n",
        "\n",
        "A=int(input(\"dame un valor entero:\"))\n",
        "B=int(input(\"dame un valor entero:\"))\n",
        "C=int(input(\"dame un valor entero:\"))\n",
        "D=int(input(\"dame un valor entero:\"))\n",
        "\n",
        "print(D)\n",
        "print(C)\n",
        "print(B)\n",
        "print(A)"
      ],
      "execution_count": null,
      "outputs": []
    },
    {
      "cell_type": "code",
      "metadata": {
        "id": "U8onauJopQJS"
      },
      "source": [
        "#ejemplo 1.7\n",
        "A=0\n",
        "B=0\n",
        "A= int(input(\"dame un entero:\"))\n",
        "B= int(input(\"dame otro entero:\"))\n",
        "RES = (A+B)**2/3\n",
        "print(RES)"
      ],
      "execution_count": null,
      "outputs": []
    },
    {
      "cell_type": "markdown",
      "metadata": {
        "id": "az7d2sMH3x1Z"
      },
      "source": [
        "----------------------------------------------------------------"
      ]
    },
    {
      "cell_type": "code",
      "metadata": {
        "id": "tUJWdvAt3z2e"
      },
      "source": [
        "#Ejemplo 1.8\n",
        "Mat=0\n",
        "Cal1=0\n",
        "cal2=0\n",
        "cal3=0\n",
        "cal4=0\n",
        "cal5=0\n",
        "pro=0.0\n",
        "\n",
        "mat= int(input(\"Dame la matricula:\"))\n",
        "cal1= float(input(\"Dame la calificacion 1:\"))\n",
        "cal2= float(input(\"Dame la calificacion 2:\"))\n",
        "cal3= float(input(\"Dame la calificacion 3:\"))\n",
        "cal4= float(input(\"Dame la calificacion 4:\"))\n",
        "cal5= float(input(\"Dame la calificacion 5:\"))\n",
        "\n",
        "pro= (cal1+cal2+cal3+cal4+cal5)/5\n",
        "print(mat,pro)\n"
      ],
      "execution_count": null,
      "outputs": []
    },
    {
      "cell_type": "code",
      "metadata": {
        "id": "ZRVnfs6L35JX"
      },
      "source": [
        "#ejemplo 1.9\n",
        "num = int(input(\"Number: \"))\n",
        "print(num ** 2)\n",
        "print(num ** 3)"
      ],
      "execution_count": null,
      "outputs": []
    },
    {
      "cell_type": "code",
      "metadata": {
        "id": "LB48E9FP3-OR"
      },
      "source": [
        "#Ejemplo 10\n",
        "Base=0\n",
        "Altu=0\n",
        "area=0.0\n",
        "Perimetro=0.0\n",
        "Base=float(input(\"Dame el valor de la base:\"))\n",
        "Altu=float(input(\"Dame el valor de la altura:\"))\n",
        "\n",
        "area=(Base*Altu)\n",
        "Perimetro=( Base + Altu )*2\n",
        "print(f\"El area es {area}\")\n",
        "print(f\"El perimetro es {Perimetro}\")\n"
      ],
      "execution_count": null,
      "outputs": []
    }
  ]
}