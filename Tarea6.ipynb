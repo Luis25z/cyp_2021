{
  "nbformat": 4,
  "nbformat_minor": 0,
  "metadata": {
    "colab": {
      "name": "Tarea6.ipynb",
      "provenance": [],
      "authorship_tag": "ABX9TyPiC+gJTxD82By6z/222A/4",
      "include_colab_link": true
    },
    "kernelspec": {
      "name": "python3",
      "display_name": "Python 3"
    }
  },
  "cells": [
    {
      "cell_type": "markdown",
      "metadata": {
        "id": "view-in-github",
        "colab_type": "text"
      },
      "source": [
        "<a href=\"https://colab.research.google.com/github/Luis25z/cyp_2021/blob/main/Tarea6.ipynb\" target=\"_parent\"><img src=\"https://colab.research.google.com/assets/colab-badge.svg\" alt=\"Open In Colab\"/></a>"
      ]
    },
    {
      "cell_type": "code",
      "metadata": {
        "id": "U8nCE2qT0VpG"
      },
      "source": [
        "#Problema 3.3\n",
        "serie=0\n",
        "N=int(input(\"Digite un número:\"))\n",
        "BAND=True\n",
        "I=1\n",
        "while I<=N:\n",
        "  if BAND==True:\n",
        "    serie= serie + 1/I\n",
        "    BAND=False\n",
        "  else:\n",
        "    serie= serie - 1/I\n",
        "    BAND=True\n",
        "  I = I + 1\n",
        "  print(f\"La serie es {serie}\")"
      ],
      "execution_count": null,
      "outputs": []
    },
    {
      "cell_type": "code",
      "metadata": {
        "id": "44wjlCZU1CNk"
      },
      "source": [
        "#PROBLEMA 3.4 \r\n",
        "\r\n",
        "nom=0\r\n",
        "sue= float (input(\"Ingrese su sueldo \\n $\"))\r\n",
        "while (sue!=-1):\r\n",
        "  if (sue<=1000):\r\n",
        "    nsue=sue*1.15\r\n",
        "    \r\n",
        "  else:\r\n",
        "    nsue=sue*1.12\r\n",
        "\r\n",
        "  print(f\"Su nuevo sueldo es de $\",nsue)  \r\n",
        "  nom=nom+nsue\r\n",
        "  sue= float (input(\"Ingrese su sueldo\\n $\"))\r\n",
        "\r\n",
        "print(\"La nomina empresarial es de $\",nom)"
      ],
      "execution_count": null,
      "outputs": []
    },
    {
      "cell_type": "code",
      "metadata": {
        "colab": {
          "base_uri": "https://localhost:8080/"
        },
        "id": "vDMEysl61PBW",
        "outputId": "d8064970-e7f2-4d27-b71e-7df5d9bdacb0"
      },
      "source": [
        "#Problema 3.5 \r\n",
        "sumotr=0\r\n",
        "sumpos=0\r\n",
        "cuepos=0\r\n",
        "n= int (input(\"Ingrese la cantidad de números que desea sumar\\n\"))\r\n",
        "i=1\r\n",
        "for i in range (n):\r\n",
        "  num = int (input(f\"Ingrese el número {i+1}° \\n\"))\r\n",
        "  if (num>0):\r\n",
        "    sumpos=sumpos+num\r\n",
        "    cuepos=cuepos+1 \r\n",
        "    \r\n",
        "  else:\r\n",
        "    sumotr=sumotr+num\r\n",
        "   \r\n",
        "  i=i+1\r\n",
        "\r\n",
        "progen=(sumpos+sumotr)/n\r\n",
        "propos=(sumpos/cuepos)\r\n",
        "\r\n",
        "print(\"La cantidad de números positivos que ingreso fue de:\",cuepos)\r\n",
        "print(\"El promedio general de los números es:\",progen)\r\n",
        "print(\"El promedio de los números positivos ingresados fue de\", propos)"
      ],
      "execution_count": 4,
      "outputs": [
        {
          "output_type": "stream",
          "text": [
            "Ingrese la cantidad de números que desea sumar\n",
            "2\n",
            "Ingrese el número 1° \n",
            "1\n",
            "Ingrese el número 2° \n",
            "3\n",
            "La cantidad de números positivos que ingreso fue de: 2\n",
            "El promedio general de los números es: 2.0\n",
            "El promedio de los números positivos ingresados fue de 2.0\n"
          ],
          "name": "stdout"
        }
      ]
    },
    {
      "cell_type": "code",
      "metadata": {
        "id": "ZyFQSBzG1hC9"
      },
      "source": [
        "#Problema 3.6\r\n",
        "may=-100000\r\n",
        "men=100000\r\n",
        "n=int (input(\"Ingrese la cantidad de números a ingresar \\n\"))\r\n",
        "i=1\r\n",
        "for i in range (n):\r\n",
        "  num= int (input(f\"Ingrese el número entero {i+1}° \\n\"))\r\n",
        "  if (num>may):\r\n",
        "    may=num\r\n",
        "  else: \r\n",
        "    if (num<men):\r\n",
        "      men=num\r\n",
        "    else:\r\n",
        "      i=i+1\r\n",
        "\r\n",
        "print(\"El número mayor es:\",may)\r\n",
        "print(\"El número menor es:\", men)"
      ],
      "execution_count": null,
      "outputs": []
    },
    {
      "cell_type": "code",
      "metadata": {
        "colab": {
          "base_uri": "https://localhost:8080/"
        },
        "id": "FmG86CnA1zsj",
        "outputId": "db008798-1ed3-46d0-8d93-2e1640dbd093"
      },
      "source": [
        "#Problema 3.7\r\n",
        "med=0\r\n",
        "chi=0\r\n",
        "gra=0\r\n",
        "n=int (input(\"Ingrese la cantidad de ventas que realizo: \\n\"))\r\n",
        "i=1\r\n",
        "for i in range (n):\r\n",
        "  v =float (input(f\"Ingrese el valor de la venta {i+1}\\n $\"))\r\n",
        "  if (v<=200):\r\n",
        "    chi=chi+1\r\n",
        "  elif (v<400):\r\n",
        "    med=med+1\r\n",
        "  else:\r\n",
        "    gra=gra+1\r\n",
        "  i=i+1\r\n",
        "\r\n",
        "print(\"Usted realizo\",chi,\"ventas chicas\")\r\n",
        "print(\"Usted realizo\",med,\"ventas medianas\")\r\n",
        "print(\"Usted realizo\",gra,\"ventas grandes\")"
      ],
      "execution_count": 7,
      "outputs": [
        {
          "output_type": "stream",
          "text": [
            "Ingrese la cantidad de ventas que realizo: \n",
            "4\n",
            "Ingrese el valor de la venta 1\n",
            " $500\n",
            "Ingrese el valor de la venta 2\n",
            " $200\n",
            "Ingrese el valor de la venta 3\n",
            " $100\n",
            "Ingrese el valor de la venta 4\n",
            " $100\n",
            "Usted realizo 3 ventas chicas\n",
            "Usted realizo 0 ventas medianas\n",
            "Usted realizo 1 ventas grandes\n"
          ],
          "name": "stdout"
        }
      ]
    },
    {
      "cell_type": "code",
      "metadata": {
        "colab": {
          "base_uri": "https://localhost:8080/"
        },
        "id": "rAhXAVLm2Kf0",
        "outputId": "483e143c-b117-4ab9-8880-52a9d4695653"
      },
      "source": [
        " #Problema 3.8 \r\n",
        "num = int (input(\"Ingrese un número positivo y entero \"))\r\n",
        "if (num>0):\r\n",
        "  while (num!=0):\r\n",
        "    print(f\"{num}\")\r\n",
        "    help=-1**num\r\n",
        "    if (help>0):\r\n",
        "      num= div(num,2) \r\n",
        "    else:\r\n",
        "      num= num*3+1\r\n",
        "    \r\n",
        "  print(f\"{num}\")\r\n",
        "\r\n",
        "else:\r\n",
        "  print(\"EL NÚMERO TIENE QUE SER POSITIVO Y ENTERO\\nPOR FAVOR, VERIFIQUE EL DATO DE ENTRADA\")"
      ],
      "execution_count": 13,
      "outputs": [
        {
          "output_type": "stream",
          "text": [
            "Ingrese un número positivo y entero 0\n",
            "EL NÚMERO TIENE QUE SER POSITIVO Y ENTERO\n",
            "POR FAVOR, VERIFIQUE EL DATO DE ENTRADA\n"
          ],
          "name": "stdout"
        }
      ]
    },
    {
      "cell_type": "code",
      "metadata": {
        "id": "MV-FiDFh2jHM"
      },
      "source": [
        "#Problema 3.9\r\n",
        "\r\n",
        "Serie = 0\r\n",
        "\r\n",
        "N = int(input(\"Colocar el numero de terminos en la serie: \"))\r\n",
        "\r\n",
        "I = 1\r\n",
        "\r\n",
        "while (I <= N):\r\n",
        "  Serie = Serie + (I**I)\r\n",
        "  I = I +1\r\n",
        "print(Serie)"
      ],
      "execution_count": null,
      "outputs": []
    },
    {
      "cell_type": "code",
      "metadata": {
        "colab": {
          "base_uri": "https://localhost:8080/"
        },
        "id": "jBYfCDeI3Fd1",
        "outputId": "16ab8348-e430-4854-af86-4226780efb5e"
      },
      "source": [
        "#Problema 3.10 \r\n",
        "pri=0\r\n",
        "seg=1\r\n",
        "i=3\r\n",
        "for i in range (180):\r\n",
        "  sig=pri+seg\r\n",
        "  pri=seg\r\n",
        "  seg=sig\r\n",
        "  i=1+1\r\n",
        "\r\n",
        "print(f\"{sig}\")"
      ],
      "execution_count": 17,
      "outputs": [
        {
          "output_type": "stream",
          "text": [
            "30010821454963453907530667147829489881\n"
          ],
          "name": "stdout"
        }
      ]
    }
  ]
}