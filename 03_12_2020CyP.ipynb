{
  "nbformat": 4,
  "nbformat_minor": 0,
  "metadata": {
    "colab": {
      "name": "03/12/2020CyP.ipynb",
      "provenance": [],
      "authorship_tag": "ABX9TyM3HKOplR7Ogur+FaIfPWGq",
      "include_colab_link": true
    },
    "kernelspec": {
      "name": "python3",
      "display_name": "Python 3"
    }
  },
  "cells": [
    {
      "cell_type": "markdown",
      "metadata": {
        "id": "view-in-github",
        "colab_type": "text"
      },
      "source": [
        "<a href=\"https://colab.research.google.com/github/Luis25z/cyp_2021/blob/main/03_12_2020CyP.ipynb\" target=\"_parent\"><img src=\"https://colab.research.google.com/assets/colab-badge.svg\" alt=\"Open In Colab\"/></a>"
      ]
    },
    {
      "cell_type": "code",
      "metadata": {
        "colab": {
          "base_uri": "https://localhost:8080/"
        },
        "id": "fLxqqsBhlIor",
        "outputId": "d6547629-fa2e-4e82-89d3-4767e68f6917"
      },
      "source": [
        "#Ejemplo1\n",
        "for i in [1,2,3,5]:\n",
        "  print(f\"El elemento:{i}\")"
      ],
      "execution_count": 2,
      "outputs": [
        {
          "output_type": "stream",
          "text": [
            "El elemento:1\n",
            "El elemento:2\n",
            "El elemento:3\n",
            "El elemento:5\n"
          ],
          "name": "stdout"
        }
      ]
    },
    {
      "cell_type": "code",
      "metadata": {
        "id": "eYvzYlQsnWrN"
      },
      "source": [
        "coleccion=[1,2,3,4,5]\n",
        "for i in coleccion:\n",
        "  print(f\"El elemento: {i}\")\n"
      ],
      "execution_count": null,
      "outputs": []
    },
    {
      "cell_type": "code",
      "metadata": {
        "colab": {
          "base_uri": "https://localhost:8080/"
        },
        "id": "t4Zu26RGnyi0",
        "outputId": "0422721b-7995-4ff7-aed6-bae272f58a59"
      },
      "source": [
        "#Ejemplo2\n",
        "\n",
        "coleccion={\"Mario\":20,\"Mariana\":19,\"Yessica\":14,\"Luis\":18}\n",
        "for i in coleccion:\n",
        "  print(f\"Elemento:{i}\")\n"
      ],
      "execution_count": 6,
      "outputs": [
        {
          "output_type": "stream",
          "text": [
            "Elemento:Mario\n",
            "Elemento:Mariana\n",
            "Elemento:Yessica\n",
            "Elemento:Luis\n"
          ],
          "name": "stdout"
        }
      ]
    },
    {
      "cell_type": "code",
      "metadata": {
        "colab": {
          "base_uri": "https://localhost:8080/"
        },
        "id": "OUDcEoijoqf3",
        "outputId": "73046b40-9149-4b80-ad6f-07d26c58b1c1"
      },
      "source": [
        "coleccion={\"Mario\":20,\"Mariana\":19,\"Yessica\":14,\"Luis\":18}\n",
        "for i in coleccion:\n",
        "  print(f\"{coleccion[i]}\")\n"
      ],
      "execution_count": 8,
      "outputs": [
        {
          "output_type": "stream",
          "text": [
            "20\n",
            "19\n",
            "14\n",
            "18\n"
          ],
          "name": "stdout"
        }
      ]
    },
    {
      "cell_type": "code",
      "metadata": {
        "colab": {
          "base_uri": "https://localhost:8080/"
        },
        "id": "Mt1JclYZpvlS",
        "outputId": "01f5e219-e3f8-46a6-ee72-028252f8998c"
      },
      "source": [
        "coleccion={\"Mario\":20,\"Mariana\":19,\"Yessica\":14,\"Luis\":18}\n",
        "for i in coleccion:\n",
        "  print(f\"{i}->{coleccion[i]}\")"
      ],
      "execution_count": 10,
      "outputs": [
        {
          "output_type": "stream",
          "text": [
            "Mario->20\n",
            "Mariana->19\n",
            "Yessica->14\n",
            "Luis->18\n"
          ],
          "name": "stdout"
        }
      ]
    },
    {
      "cell_type": "code",
      "metadata": {
        "colab": {
          "base_uri": "https://localhost:8080/"
        },
        "id": "ZklEGbUOrbKe",
        "outputId": "c8b389f6-f3f7-4fd8-a942-55d6c00964cd"
      },
      "source": [
        "coleccion={\"Mario\":20,\"Mariana\":19,\"Yessica\":14,\"Luis\":18}\n",
        "\n",
        "for clave, valor in coleccion.items():\n",
        "  print(f\"{clave}->{valor}\")"
      ],
      "execution_count": 11,
      "outputs": [
        {
          "output_type": "stream",
          "text": [
            "Mario->20\n",
            "Mariana->19\n",
            "Yessica->14\n",
            "Luis->18\n"
          ],
          "name": "stdout"
        }
      ]
    },
    {
      "cell_type": "code",
      "metadata": {
        "colab": {
          "base_uri": "https://localhost:8080/"
        },
        "id": "QjHXBVdwsHCg",
        "outputId": "324d8f86-f75f-4a36-e0dc-5ee0d1fc8f7f"
      },
      "source": [
        "#Ejemplo 3\n",
        "\n",
        "email=False\n",
        "for i in \"ariel@unam.mx\":\n",
        "\n",
        "  if(i ==\"@\"):\n",
        "    email=True\n",
        "if email== True:\n",
        "  print(\"El email es correcto\")\n",
        "\n",
        "else:\n",
        "  print(\"El correo no es correcto\")\n",
        "    "
      ],
      "execution_count": 16,
      "outputs": [
        {
          "output_type": "stream",
          "text": [
            "El email es correcto\n"
          ],
          "name": "stdout"
        }
      ]
    },
    {
      "cell_type": "code",
      "metadata": {
        "colab": {
          "base_uri": "https://localhost:8080/"
        },
        "id": "-htvMPIBtjeZ",
        "outputId": "33bfd4ff-3e0b-4968-a4aa-30872f486360"
      },
      "source": [
        "email=False\n",
        "miEmail=input(\"Introduce tu correo electronico:\")\n",
        "for i in miEmail:\n",
        "\n",
        "  if(i ==\"@\"):\n",
        "    email=True\n",
        "\n",
        "if email:\n",
        "  print(\"El email es correcto\")\n",
        "\n",
        "else:\n",
        "  print(\"El correo no es correcto\")"
      ],
      "execution_count": 23,
      "outputs": [
        {
          "output_type": "stream",
          "text": [
            "Introduce tu correo electronico:Luis@gmail.com\n",
            "El email es correcto\n"
          ],
          "name": "stdout"
        }
      ]
    },
    {
      "cell_type": "code",
      "metadata": {
        "colab": {
          "base_uri": "https://localhost:8080/"
        },
        "id": "VPVgsQl8u7Ii",
        "outputId": "09a216e5-847e-4aa2-aba2-4e3a4d332ebf"
      },
      "source": [
        "#For-Range\n",
        "\n",
        "for i in range(5):\n",
        "  print(\"hola\")"
      ],
      "execution_count": 24,
      "outputs": [
        {
          "output_type": "stream",
          "text": [
            "hola\n",
            "hola\n",
            "hola\n",
            "hola\n",
            "hola\n"
          ],
          "name": "stdout"
        }
      ]
    },
    {
      "cell_type": "code",
      "metadata": {
        "colab": {
          "base_uri": "https://localhost:8080/"
        },
        "id": "dR11nKekvgoo",
        "outputId": "6cc9cbae-42c5-44a6-b8cb-f05331eb2405"
      },
      "source": [
        "for i in range(5):\n",
        "  print(i)"
      ],
      "execution_count": 25,
      "outputs": [
        {
          "output_type": "stream",
          "text": [
            "0\n",
            "1\n",
            "2\n",
            "3\n",
            "4\n"
          ],
          "name": "stdout"
        }
      ]
    },
    {
      "cell_type": "code",
      "metadata": {
        "colab": {
          "base_uri": "https://localhost:8080/"
        },
        "id": "ApCLJUARwQu2",
        "outputId": "f4bbd8b3-c7ff-4d83-9be4-2580af4c5968"
      },
      "source": [
        "for i in range(20):\n",
        "  print(f\"valor de la variable{i}\")"
      ],
      "execution_count": 27,
      "outputs": [
        {
          "output_type": "stream",
          "text": [
            "valor de la variable0\n",
            "valor de la variable1\n",
            "valor de la variable2\n",
            "valor de la variable3\n",
            "valor de la variable4\n",
            "valor de la variable5\n",
            "valor de la variable6\n",
            "valor de la variable7\n",
            "valor de la variable8\n",
            "valor de la variable9\n",
            "valor de la variable10\n",
            "valor de la variable11\n",
            "valor de la variable12\n",
            "valor de la variable13\n",
            "valor de la variable14\n",
            "valor de la variable15\n",
            "valor de la variable16\n",
            "valor de la variable17\n",
            "valor de la variable18\n",
            "valor de la variable19\n"
          ],
          "name": "stdout"
        }
      ]
    },
    {
      "cell_type": "code",
      "metadata": {
        "id": "-wi-iIPiyNEc"
      },
      "source": [
        "#While Ejemplos\n",
        "\n",
        "#Ejemplo 1\n",
        "\n",
        "i=1\n",
        "while i <=10:\n",
        "  print(\"Ejecucion\"+ str(i))"
      ],
      "execution_count": null,
      "outputs": []
    },
    {
      "cell_type": "code",
      "metadata": {
        "id": "9GQJ2myMz2jE"
      },
      "source": [
        "i=1\n",
        "while i <=10:\n",
        "  print(\"ejecucion\"+str(i))\n",
        "\n",
        "  i=i+1 #contador,es decir, incrementa en 1 la variable"
      ],
      "execution_count": null,
      "outputs": []
    },
    {
      "cell_type": "code",
      "metadata": {
        "colab": {
          "base_uri": "https://localhost:8080/"
        },
        "id": "73Mjgejj0t2g",
        "outputId": "7749f8ba-dbd4-45c0-9f88-a7f6eb52f72f"
      },
      "source": [
        "edad=int(input(\"Introduce tu edad:\"))\n",
        "while edad <0:\n",
        "  print(\"Has introducido una edad negativa,intentalo de nuevo\")\n",
        "  edad=int(input(\"Introduce tu edad:\"))\n",
        "print(\"Gracias por participar,Puede pasar\")\n",
        "print(\"Edad del aspirante\"+str (edad))"
      ],
      "execution_count": 37,
      "outputs": [
        {
          "output_type": "stream",
          "text": [
            "Introduce tu edad:-9\n",
            "Has introducido una edad negativa\n",
            "Introduce tu edad:-4\n",
            "Has introducido una edad negativa\n",
            "Introduce tu edad:8\n",
            "Gracias por participar,Puede pasar\n",
            "Edad del aspirante8\n"
          ],
          "name": "stdout"
        }
      ]
    },
    {
      "cell_type": "code",
      "metadata": {
        "colab": {
          "base_uri": "https://localhost:8080/"
        },
        "id": "OFodgTGg1MnL",
        "outputId": "84d87ffc-eaf7-452c-f964-c9008977cee9"
      },
      "source": [
        "edad=int(input(\"Introduce tu edad:\"))\n",
        "while edad<0 or edad>101:\n",
        "  print(\"Has introducido una edad negativa,intentalo de nuevo\")\n",
        "  edad=int(input(\"Introduce tu edad:\"))\n",
        "print(\"Gracias por participar,Puede pasar\")\n",
        "print(\"Edad del aspirante\"+str (edad))"
      ],
      "execution_count": null,
      "outputs": [
        {
          "output_type": "stream",
          "text": [
            "Introduce tu edad:105\n",
            "Has introducido una edad negativa,intentalo de nuevo\n"
          ],
          "name": "stdout"
        }
      ]
    }
  ]
}