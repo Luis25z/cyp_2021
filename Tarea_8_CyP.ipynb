{
  "nbformat": 4,
  "nbformat_minor": 0,
  "metadata": {
    "colab": {
      "name": "Tarea_8_CyP.ipynb",
      "provenance": [],
      "include_colab_link": true
    },
    "kernelspec": {
      "name": "python3",
      "display_name": "Python 3"
    }
  },
  "cells": [
    {
      "cell_type": "markdown",
      "metadata": {
        "id": "view-in-github",
        "colab_type": "text"
      },
      "source": [
        "<a href=\"https://colab.research.google.com/github/Luis25z/cyp_2021/blob/main/Tarea_8_CyP.ipynb\" target=\"_parent\"><img src=\"https://colab.research.google.com/assets/colab-badge.svg\" alt=\"Open In Colab\"/></a>"
      ]
    },
    {
      "cell_type": "code",
      "metadata": {
        "colab": {
          "base_uri": "https://localhost:8080/"
        },
        "id": "gSk5QCu3_csq",
        "outputId": "cdad05bb-08d9-4fba-9b0f-78b0d16acdd9"
      },
      "source": [
        "print(\" \\ua554\\ua554\\ua554\\ua554\\ua554\\ua554\\ua554\\ua554\\ua554\\ua554\\ua554\\ua554\\ua554\\ua554\\ua554\\ua554\\ua554\\ua554\\ua554\\ua554\\ua554\\ua554\\ua554\\ua554\\ua554\\ua554\\ua554\\ua554\\ua554\\ua554\\ua554\\ua554\\ua554\\ua554\\ua554\\ua554\\ua554\\ua554\\ua554\\ua554\")\r\n",
        "print(\" \\ua554 \\t\\t\\t\\t\\t\\t\\t  \\ua554\")\r\n",
        "print(\" \\ua554   \\u269D            \\u269D     \\u269D        \\u269D            \\u269D\\u269D\\u269D\\u269D   \\ua554\")\r\n",
        "print(\" \\ua554   \\u269D            \\u269D     \\u269D        \\u269D           \\u269D        \\ua554\") \r\n",
        "print(\" \\ua554   \\u269D            \\u269D     \\u269D        \\u269D              \\u269D     \\ua554 \")\r\n",
        "print(\" \\ua554   \\u269D             \\u269D\\u269D\\u269D\\u269D         \\u269D               \\u269D    \\ua554  \")\r\n",
        "print(\" \\ua554   \\u269D\\u269D\\u269D          \\u269D\\u269D\\u269D\\u269D         \\u269D        \\u269D\\u269D\\u269D\\u269D      \\ua554         \")\r\n",
        "print(\" \\ua554                                                      \\ua554 \")\r\n",
        "print(\" \\ua554                                                      \\ua554\")\r\n",
        "print(\" \\ua554\\ua554\\ua554\\ua554\\ua554\\ua554\\ua554\\ua554\\ua554\\ua554\\ua554\\ua554\\ua554\\ua554\\ua554\\ua554\\ua554\\ua554\\ua554\\ua554\\ua554\\ua554\\ua554\\ua554\\ua554\\ua554\\ua554\\ua554\\ua554\\ua554\\ua554\\ua554\\ua554\\ua554\\ua554\\ua554\\ua554\\ua554\\ua554\\ua554\")"
      ],
      "execution_count": null,
      "outputs": [
        {
          "output_type": "stream",
          "text": [
            " ꕔꕔꕔꕔꕔꕔꕔꕔꕔꕔꕔꕔꕔꕔꕔꕔꕔꕔꕔꕔꕔꕔꕔꕔꕔꕔꕔꕔꕔꕔꕔꕔꕔꕔꕔꕔꕔꕔꕔꕔ\n",
            " ꕔ \t\t\t\t\t\t\t  ꕔ\n",
            " ꕔ   ⚝            ⚝     ⚝        ⚝            ⚝⚝⚝⚝   ꕔ\n",
            " ꕔ   ⚝            ⚝     ⚝        ⚝           ⚝        ꕔ\n",
            " ꕔ   ⚝            ⚝     ⚝        ⚝              ⚝     ꕔ \n",
            " ꕔ   ⚝             ⚝⚝⚝⚝         ⚝               ⚝    ꕔ  \n",
            " ꕔ   ⚝⚝⚝          ⚝⚝⚝⚝         ⚝        ⚝⚝⚝⚝      ꕔ         \n",
            " ꕔ                                                      ꕔ \n",
            " ꕔ                                                      ꕔ\n",
            " ꕔꕔꕔꕔꕔꕔꕔꕔꕔꕔꕔꕔꕔꕔꕔꕔꕔꕔꕔꕔꕔꕔꕔꕔꕔꕔꕔꕔꕔꕔꕔꕔꕔꕔꕔꕔꕔꕔꕔꕔ\n"
          ],
          "name": "stdout"
        }
      ]
    }
  ]
}