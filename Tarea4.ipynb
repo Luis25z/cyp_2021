{
  "nbformat": 4,
  "nbformat_minor": 0,
  "metadata": {
    "colab": {
      "name": "Tarea4.ipynb",
      "provenance": [],
      "authorship_tag": "ABX9TyMjzyOgjwfMPLItB8ev6HqJ",
      "include_colab_link": true
    },
    "kernelspec": {
      "name": "python3",
      "display_name": "Python 3"
    }
  },
  "cells": [
    {
      "cell_type": "markdown",
      "metadata": {
        "id": "view-in-github",
        "colab_type": "text"
      },
      "source": [
        "<a href=\"https://colab.research.google.com/github/Luis25z/cyp_2021/blob/main/Tarea4.ipynb\" target=\"_parent\"><img src=\"https://colab.research.google.com/assets/colab-badge.svg\" alt=\"Open In Colab\"/></a>"
      ]
    },
    {
      "cell_type": "code",
      "metadata": {
        "colab": {
          "base_uri": "https://localhost:8080/"
        },
        "id": "J93zAo57ILy1",
        "outputId": "6fd2fe01-503e-4a7c-d462-fced920bcc68"
      },
      "source": [
        "#Ejemplo 2.4 aumento de un trabajador \n",
        "\n",
        "sue = 0\n",
        "sue = float(input(\"ingrese el sueldo \"))\n",
        "\n",
        "if (sue <= 1000):\n",
        "  suea = ((sue / 100) * 15) + sue\n",
        "  print(f\"el sueldo del trabajor con el aumento es ${suea:.2f}\")\n",
        "else:\n",
        " suea = ((sue / 100) * 12) + sue\n",
        " print(f\"el sueldo del trabajador con el aumento es ${suea:.2f}\")"
      ],
      "execution_count": 2,
      "outputs": [
        {
          "output_type": "stream",
          "text": [
            "ingrese el sueldo 20\n",
            "el sueldo del trabajor con el aumento es $23.00\n"
          ],
          "name": "stdout"
        }
      ]
    },
    {
      "cell_type": "code",
      "metadata": {
        "colab": {
          "base_uri": "https://localhost:8080/"
        },
        "id": "5H9Cbn7GI3wH",
        "outputId": "3b02c941-971d-442f-d3bb-a35882e6b514"
      },
      "source": [
        "#Ejemplo 2.8 calculo de aumento segun la categoria\n",
        "\n",
        "cat = int(input(\"ingrese la categoria del trabajador \"))\n",
        "sue = float(input(\"ingrese el sueldo del trabajador \"))\n",
        "\n",
        "if (cat == 1):\n",
        "  suea = ((sue / 100) * 15) + sue\n",
        "  print(f\"el sueldo del trabajador categoria {cat} con el aumento es ${suea:.2f}\")\n",
        "elif (cat == 2):\n",
        "  suea = ((sue / 100) * 10) + sue\n",
        "  print(f\"el sueldo del trabajador categoria {cat} con el aumento es ${suea:.2f}\")\n",
        "elif (cat == 3):\n",
        "  suea = ((sue / 100) * 8) + sue\n",
        "  print(f\"el sueldo del trabajador categoria {cat} con el aumento es ${suea:.2f}\")\n",
        "elif (cat == 4):\n",
        "  suea = ((sue / 100) * 7) + sue\n",
        "  print(f\"el sueldo del trabajador categoria {cat} con el aumento es ${suea:.2f}\")"
      ],
      "execution_count": 1,
      "outputs": [
        {
          "output_type": "stream",
          "text": [
            "ingrese la categoria del trabajador 4\n",
            "ingrese el sueldo del trabajador 100\n",
            "el sueldo del trabajador categoria 4 con el aumento es $107.00\n"
          ],
          "name": "stdout"
        }
      ]
    }
  ]
}